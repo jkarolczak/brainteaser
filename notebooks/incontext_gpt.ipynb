{
 "cells": [
  {
   "cell_type": "code",
   "execution_count": 2,
   "outputs": [],
   "source": [
    "import os\n",
    "\n",
    "import wandb\n",
    "from solvers import InContextGPT\n",
    "from structs import DataSet"
   ],
   "metadata": {
    "collapsed": false,
    "ExecuteTime": {
     "end_time": "2024-01-01T18:55:50.869236Z",
     "start_time": "2024-01-01T18:55:50.340872Z"
    }
   },
   "id": "95768bde8858a58a"
  },
  {
   "cell_type": "code",
   "execution_count": 3,
   "outputs": [
    {
     "data": {
      "text/html": "<button onClick=\"this.nextSibling.style.display='block';this.style.display='none';\">Display W&B run</button><iframe src='https://wandb.ai/ap-wt/brainteasers/runs/nzwa3l3p?jupyter=true' style='border:none;width:100%;height:420px;display:none;'></iframe>",
      "text/plain": "<wandb.sdk.wandb_run.Run at 0x1274a3ed0>"
     },
     "execution_count": 3,
     "metadata": {},
     "output_type": "execute_result"
    }
   ],
   "source": [
    "os.environ[\"WANDB_SILENT\"] = \"true\"\n",
    "\n",
    "wandb.init(\n",
    "    project=\"brainteasers\",\n",
    "    config={\n",
    "        \"solver\": \"InContextGPT\",\n",
    "        \"model_sp\": \"ft:gpt-3.5-turbo-0613:ncodex::8QhGOWvR\",\n",
    "        \"model_wp\": \"ft:gpt-3.5-turbo-0613:ncodex::8R1R0Vi0\"\n",
    "    }\n",
    ")"
   ],
   "metadata": {
    "collapsed": false,
    "ExecuteTime": {
     "end_time": "2024-01-01T18:55:54.516173Z",
     "start_time": "2024-01-01T18:55:50.868001Z"
    }
   },
   "id": "2715d613657d6f9e"
  },
  {
   "cell_type": "markdown",
   "source": [
    "# Sentence Puzzle"
   ],
   "metadata": {
    "collapsed": false
   },
   "id": "c222ec25e832e9fd"
  },
  {
   "cell_type": "code",
   "execution_count": 4,
   "outputs": [],
   "source": [
    "sp_eval = DataSet.from_file(\"../data/SP-eval.pkl\")"
   ],
   "metadata": {
    "collapsed": false,
    "ExecuteTime": {
     "end_time": "2024-01-01T18:55:54.544269Z",
     "start_time": "2024-01-01T18:55:54.505185Z"
    }
   },
   "id": "92989bccccab7082"
  },
  {
   "cell_type": "code",
   "execution_count": 5,
   "outputs": [
    {
     "data": {
      "text/plain": "  0%|          | 0/119 [00:00<?, ?it/s]",
      "application/vnd.jupyter.widget-view+json": {
       "version_major": 2,
       "version_minor": 0,
       "model_id": "2cddef26c9784ded81f6650ac0865292"
      }
     },
     "metadata": {},
     "output_type": "display_data"
    },
    {
     "name": "stdout",
     "output_type": "stream",
     "text": [
      "Accuracy on the Sentence Puzzle dataset:  0.8992\n"
     ]
    }
   ],
   "source": [
    "sp_solver = InContextGPT(model_name=\"ft:gpt-3.5-turbo-0613:ncodex::8QhGOWvR\", context=InContextGPT.Context.SENTENCE)\n",
    "\n",
    "sp_answers = sp_solver.solve(sp_eval)\n",
    "sp_are_answers_correct = [instance.is_choice_correct(answer) for instance, answer in zip(sp_eval, sp_answers)]\n",
    "sp_accuracy = sum(sp_are_answers_correct) / len(sp_are_answers_correct)\n",
    "\n",
    "print(f\"Accuracy on the Sentence Puzzle dataset: {sp_accuracy: .4f}\")"
   ],
   "metadata": {
    "collapsed": false,
    "ExecuteTime": {
     "end_time": "2024-01-01T18:56:45.985306Z",
     "start_time": "2024-01-01T18:55:54.521659Z"
    }
   },
   "id": "d988a9f3a53319ea"
  },
  {
   "cell_type": "markdown",
   "source": [
    "# Word Puzzle"
   ],
   "metadata": {
    "collapsed": false
   },
   "id": "3e79c2abdf0bf2a1"
  },
  {
   "cell_type": "code",
   "execution_count": 6,
   "outputs": [],
   "source": [
    "wp_eval = DataSet.from_file(\"../data/WP-eval.pkl\")"
   ],
   "metadata": {
    "collapsed": false,
    "ExecuteTime": {
     "end_time": "2024-01-01T18:56:45.994278Z",
     "start_time": "2024-01-01T18:56:45.983075Z"
    }
   },
   "id": "198a8cf23db0b435"
  },
  {
   "cell_type": "code",
   "execution_count": 7,
   "outputs": [],
   "source": [
    "# wp_solver = FineTunedGPT()\n",
    "# wp_solver.fit(wp_train)"
   ],
   "metadata": {
    "collapsed": false,
    "ExecuteTime": {
     "end_time": "2024-01-01T18:56:46.024404Z",
     "start_time": "2024-01-01T18:56:45.994451Z"
    }
   },
   "id": "e4c722619e8f4768"
  },
  {
   "cell_type": "code",
   "execution_count": 8,
   "outputs": [
    {
     "data": {
      "text/plain": "  0%|          | 0/120 [00:00<?, ?it/s]",
      "application/vnd.jupyter.widget-view+json": {
       "version_major": 2,
       "version_minor": 0,
       "model_id": "61fd2b0ad54440daa851a67d56faaf1e"
      }
     },
     "metadata": {},
     "output_type": "display_data"
    },
    {
     "name": "stdout",
     "output_type": "stream",
     "text": [
      "Accuracy on the Word Puzzle dataset:  0.6333\n"
     ]
    }
   ],
   "source": [
    "wp_solver = InContextGPT(model_name=\"ft:gpt-3.5-turbo-0613:ncodex::8R1R0Vi0\", context=InContextGPT.Context.WORD)\n",
    "\n",
    "wp_answers = wp_solver.solve(wp_eval)\n",
    "wp_are_answers_correct = [instance.is_choice_correct(answer) for instance, answer in zip(wp_eval, wp_answers)]\n",
    "wp_accuracy = sum(wp_are_answers_correct) / len(wp_are_answers_correct)\n",
    "\n",
    "print(f\"Accuracy on the Word Puzzle dataset: {wp_accuracy: .4f}\")"
   ],
   "metadata": {
    "collapsed": false,
    "ExecuteTime": {
     "end_time": "2024-01-01T18:57:52.561512Z",
     "start_time": "2024-01-01T18:56:45.998663Z"
    }
   },
   "id": "770a2d2988ddeb66"
  },
  {
   "cell_type": "code",
   "execution_count": 9,
   "outputs": [],
   "source": [
    "total_cardinality = (len(sp_answers) + len(wp_answers))\n",
    "total_accuracy = (sp_accuracy * (len(sp_answers) / total_cardinality) +\n",
    "                  wp_accuracy * (len(wp_answers) / total_cardinality))"
   ],
   "metadata": {
    "collapsed": false,
    "ExecuteTime": {
     "end_time": "2024-01-01T18:57:52.564490Z",
     "start_time": "2024-01-01T18:57:52.561169Z"
    }
   },
   "id": "e35190e8fda91e83"
  },
  {
   "cell_type": "code",
   "execution_count": 10,
   "outputs": [],
   "source": [
    "wandb.log(\n",
    "    {\n",
    "        \"accuracy/overall\": total_accuracy,\n",
    "        \"accuracy/sp\": sp_accuracy,\n",
    "        \"accuracy/wp\": wp_accuracy,\n",
    "    }\n",
    ")\n",
    "\n",
    "wandb.finish(quiet=True)"
   ],
   "metadata": {
    "collapsed": false,
    "ExecuteTime": {
     "end_time": "2024-01-01T18:58:00.253735Z",
     "start_time": "2024-01-01T18:57:52.564690Z"
    }
   },
   "id": "f341a96a50e7982e"
  }
 ],
 "metadata": {
  "kernelspec": {
   "display_name": "Python 3",
   "language": "python",
   "name": "python3"
  },
  "language_info": {
   "codemirror_mode": {
    "name": "ipython",
    "version": 2
   },
   "file_extension": ".py",
   "mimetype": "text/x-python",
   "name": "python",
   "nbconvert_exporter": "python",
   "pygments_lexer": "ipython2",
   "version": "2.7.6"
  }
 },
 "nbformat": 4,
 "nbformat_minor": 5
}
