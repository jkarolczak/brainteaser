{
 "cells": [
  {
   "cell_type": "code",
   "execution_count": 2,
   "outputs": [],
   "source": [
    "import os\n",
    "\n",
    "import wandb\n",
    "from solvers import ZeroShotWithReasoningGPT\n",
    "from structs import DataSet"
   ],
   "metadata": {
    "collapsed": false,
    "ExecuteTime": {
     "end_time": "2024-01-10T18:30:33.292219Z",
     "start_time": "2024-01-10T18:30:32.830013Z"
    }
   },
   "id": "95768bde8858a58a"
  },
  {
   "cell_type": "code",
   "execution_count": 3,
   "outputs": [
    {
     "data": {
      "text/html": "<button onClick=\"this.nextSibling.style.display='block';this.style.display='none';\">Display W&B run</button><iframe src='https://wandb.ai/ap-wt/brainteasers/runs/i2iv9mgb?jupyter=true' style='border:none;width:100%;height:420px;display:none;'></iframe>",
      "text/plain": "<wandb.sdk.wandb_run.Run at 0x13fca6350>"
     },
     "execution_count": 3,
     "metadata": {},
     "output_type": "execute_result"
    }
   ],
   "source": [
    "os.environ[\"WANDB_SILENT\"] = \"true\"\n",
    "\n",
    "wandb.init(\n",
    "    project=\"brainteasers\",\n",
    "    config={\n",
    "        \"solver\": \"ZeroShotWithReasoningGPT\",\n",
    "        \"model_wp\": \"3.5-turbo\"\n",
    "    }\n",
    ")"
   ],
   "metadata": {
    "collapsed": false,
    "ExecuteTime": {
     "end_time": "2024-01-10T18:30:36.502534Z",
     "start_time": "2024-01-10T18:30:33.321426Z"
    }
   },
   "id": "2715d613657d6f9e"
  },
  {
   "cell_type": "markdown",
   "source": [
    "# Word Puzzle"
   ],
   "metadata": {
    "collapsed": false
   },
   "id": "3e79c2abdf0bf2a1"
  },
  {
   "cell_type": "code",
   "execution_count": 4,
   "outputs": [],
   "source": [
    "wp_eval = DataSet.from_file(\"../data/WP-train-eval.pkl\")"
   ],
   "metadata": {
    "collapsed": false,
    "ExecuteTime": {
     "end_time": "2024-01-10T18:30:36.517506Z",
     "start_time": "2024-01-10T18:30:36.501842Z"
    }
   },
   "id": "198a8cf23db0b435"
  },
  {
   "cell_type": "code",
   "execution_count": 5,
   "outputs": [
    {
     "data": {
      "text/plain": "  0%|          | 0/396 [00:00<?, ?it/s]",
      "application/vnd.jupyter.widget-view+json": {
       "version_major": 2,
       "version_minor": 0,
       "model_id": "fba3d83089e744679f0e2de0324f41b1"
      }
     },
     "metadata": {},
     "output_type": "display_data"
    },
    {
     "name": "stdout",
     "output_type": "stream",
     "text": [
      "An error occurred during generating response. Retrying...\n",
      "An error occurred during generating response. Retrying...\n",
      "An error occurred during generating response. Retrying...\n",
      "An error occurred during generating response. Retrying...\n",
      "An error occurred during generating response. Retrying...\n",
      "An error occurred during generating response. Retrying...\n",
      "An error occurred during generating response. Retrying...\n",
      "An error occurred during generating response. Retrying...\n",
      "An error occurred during generating response. Retrying...\n",
      "An error occurred during generating response. Retrying...\n",
      "Accuracy on the Word Puzzle dataset:  0.3712\n"
     ]
    }
   ],
   "source": [
    "wp_solver = ZeroShotWithReasoningGPT(model_name=\"gpt-3.5-turbo\")\n",
    "\n",
    "wp_answers = wp_solver.solve(wp_eval)\n",
    "wp_are_answers_correct = [instance.is_choice_correct(answer) for instance, answer in zip(wp_eval, wp_answers)]\n",
    "wp_accuracy = sum(wp_are_answers_correct) / len(wp_are_answers_correct)\n",
    "\n",
    "print(f\"Accuracy on the Word Puzzle dataset: {wp_accuracy: .4f}\")"
   ],
   "metadata": {
    "collapsed": false,
    "ExecuteTime": {
     "end_time": "2024-01-10T19:51:14.919043Z",
     "start_time": "2024-01-10T18:30:36.518696Z"
    }
   },
   "id": "770a2d2988ddeb66"
  },
  {
   "cell_type": "code",
   "execution_count": 6,
   "outputs": [],
   "source": [
    "wandb.log(\n",
    "    {\n",
    "        \"accuracy/wp\": wp_accuracy\n",
    "    }\n",
    ")\n",
    "\n",
    "wandb.finish(quiet=True)"
   ],
   "metadata": {
    "collapsed": false,
    "ExecuteTime": {
     "end_time": "2024-01-10T19:51:23.040127Z",
     "start_time": "2024-01-10T19:51:14.912125Z"
    }
   },
   "id": "f341a96a50e7982e"
  }
 ],
 "metadata": {
  "kernelspec": {
   "display_name": "Python 3",
   "language": "python",
   "name": "python3"
  },
  "language_info": {
   "codemirror_mode": {
    "name": "ipython",
    "version": 2
   },
   "file_extension": ".py",
   "mimetype": "text/x-python",
   "name": "python",
   "nbconvert_exporter": "python",
   "pygments_lexer": "ipython2",
   "version": "2.7.6"
  }
 },
 "nbformat": 4,
 "nbformat_minor": 5
}
