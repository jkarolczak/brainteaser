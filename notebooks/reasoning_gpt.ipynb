{
 "cells": [
  {
   "cell_type": "code",
   "execution_count": 2,
   "outputs": [],
   "source": [
    "import os\n",
    "\n",
    "import wandb\n",
    "from solvers import ZeroShotWithReasoningGPT\n",
    "from structs import DataSet"
   ],
   "metadata": {
    "collapsed": false,
    "ExecuteTime": {
     "end_time": "2024-01-11T19:25:08.754169Z",
     "start_time": "2024-01-11T19:25:06.954108Z"
    }
   },
   "id": "95768bde8858a58a"
  },
  {
   "cell_type": "code",
   "execution_count": 3,
   "outputs": [
    {
     "data": {
      "text/html": "<button onClick=\"this.nextSibling.style.display='block';this.style.display='none';\">Display W&B run</button><iframe src='https://wandb.ai/ap-wt/brainteasers/runs/h2bczu3l?jupyter=true' style='border:none;width:100%;height:420px;display:none;'></iframe>",
      "text/plain": "<wandb.sdk.wandb_run.Run at 0x13ed46fd0>"
     },
     "execution_count": 3,
     "metadata": {},
     "output_type": "execute_result"
    }
   ],
   "source": [
    "os.environ[\"WANDB_SILENT\"] = \"true\"\n",
    "\n",
    "wandb.init(\n",
    "    project=\"brainteasers\",\n",
    "    config={\n",
    "        \"solver\": \"ZeroShotWithReasoningGPT\",\n",
    "        \"model_wp\": \"gpt-4-1106-preview\"\n",
    "    }\n",
    ")"
   ],
   "metadata": {
    "collapsed": false,
    "ExecuteTime": {
     "end_time": "2024-01-11T19:25:11.990708Z",
     "start_time": "2024-01-11T19:25:08.778600Z"
    }
   },
   "id": "2715d613657d6f9e"
  },
  {
   "cell_type": "markdown",
   "source": [
    "# Word Puzzle"
   ],
   "metadata": {
    "collapsed": false
   },
   "id": "3e79c2abdf0bf2a1"
  },
  {
   "cell_type": "code",
   "execution_count": 4,
   "outputs": [],
   "source": [
    "wp_eval = DataSet.from_file(\"../data/WP-train-eval.pkl\")"
   ],
   "metadata": {
    "collapsed": false,
    "ExecuteTime": {
     "end_time": "2024-01-11T19:25:12.008099Z",
     "start_time": "2024-01-11T19:25:11.991906Z"
    }
   },
   "id": "198a8cf23db0b435"
  },
  {
   "cell_type": "code",
   "execution_count": 5,
   "outputs": [
    {
     "data": {
      "text/plain": "  0%|          | 0/396 [00:00<?, ?it/s]",
      "application/vnd.jupyter.widget-view+json": {
       "version_major": 2,
       "version_minor": 0,
       "model_id": "61d1de930d3b4663b23edbe9978a72d3"
      }
     },
     "metadata": {},
     "output_type": "display_data"
    },
    {
     "name": "stdout",
     "output_type": "stream",
     "text": [
      "An error occurred during generating response. Retrying...\n",
      "An error occurred during generating response. Retrying...\n",
      "Accuracy on the Word Puzzle dataset:  0.7551\n"
     ]
    }
   ],
   "source": [
    "wp_solver = ZeroShotWithReasoningGPT(model_name=\"gpt-4-1106-preview\")\n",
    "\n",
    "wp_answers = wp_solver.solve(wp_eval)\n",
    "wp_are_answers_correct = [instance.is_choice_correct(answer) for instance, answer in zip(wp_eval, wp_answers)]\n",
    "wp_accuracy = sum(wp_are_answers_correct) / len(wp_are_answers_correct)\n",
    "\n",
    "print(f\"Accuracy on the Word Puzzle dataset: {wp_accuracy: .4f}\")"
   ],
   "metadata": {
    "collapsed": false,
    "ExecuteTime": {
     "end_time": "2024-01-11T21:49:24.565099Z",
     "start_time": "2024-01-11T19:25:12.580391Z"
    }
   },
   "id": "770a2d2988ddeb66"
  },
  {
   "cell_type": "code",
   "execution_count": 6,
   "outputs": [],
   "source": [
    "wandb.log(\n",
    "    {\n",
    "        \"accuracy/wp\": wp_accuracy\n",
    "    }\n",
    ")\n",
    "\n",
    "wandb.finish(quiet=True)"
   ],
   "metadata": {
    "collapsed": false,
    "ExecuteTime": {
     "end_time": "2024-01-11T21:49:33.595120Z",
     "start_time": "2024-01-11T21:49:24.564243Z"
    }
   },
   "id": "f341a96a50e7982e"
  }
 ],
 "metadata": {
  "kernelspec": {
   "display_name": "Python 3",
   "language": "python",
   "name": "python3"
  },
  "language_info": {
   "codemirror_mode": {
    "name": "ipython",
    "version": 2
   },
   "file_extension": ".py",
   "mimetype": "text/x-python",
   "name": "python",
   "nbconvert_exporter": "python",
   "pygments_lexer": "ipython2",
   "version": "2.7.6"
  }
 },
 "nbformat": 4,
 "nbformat_minor": 5
}
