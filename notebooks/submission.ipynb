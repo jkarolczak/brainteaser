{
 "cells": [
  {
   "cell_type": "code",
   "execution_count": 2,
   "outputs": [],
   "source": [
    "from pathlib import Path\n",
    "\n",
    "import numpy as np\n",
    "\n",
    "from solvers import ZeroShotWithReasoningGPT, InContextGPT\n",
    "from structs import DataSet"
   ],
   "metadata": {
    "collapsed": false,
    "ExecuteTime": {
     "end_time": "2024-01-12T16:18:41.083564Z",
     "start_time": "2024-01-12T16:18:40.845436Z"
    }
   },
   "id": "3800a88a48afd40a"
  },
  {
   "cell_type": "markdown",
   "source": [
    "# Sentence puzzle"
   ],
   "metadata": {
    "collapsed": false
   },
   "id": "d46ce8dfe7623e8d"
  },
  {
   "cell_type": "code",
   "execution_count": 3,
   "outputs": [],
   "source": [
    "sp_array = np.load(\"../data/SP_new_test.npy\", allow_pickle=True)\n",
    "sp_evaluation = DataSet.from_array(sp_array, shuffle=False)\n",
    "\n",
    "for instance in sp_evaluation:\n",
    "    instance.embed()"
   ],
   "metadata": {
    "collapsed": false,
    "ExecuteTime": {
     "end_time": "2024-01-12T16:19:25.901538Z",
     "start_time": "2024-01-12T16:18:42.309443Z"
    }
   },
   "id": "4a991121f3e6a3a0"
  },
  {
   "cell_type": "code",
   "execution_count": 4,
   "outputs": [
    {
     "data": {
      "text/plain": "  0%|          | 0/120 [00:00<?, ?it/s]",
      "application/vnd.jupyter.widget-view+json": {
       "version_major": 2,
       "version_minor": 0,
       "model_id": "1bc89266ad02433bbe38c1b684285e0a"
      }
     },
     "metadata": {},
     "output_type": "display_data"
    }
   ],
   "source": [
    "sp_solver = InContextGPT(model_name=\"gpt-4-1106-preview\", context=InContextGPT.Context.SENTENCE,\n",
    "                         file_name=\"../data/SP-train-eval.pkl\")\n",
    "sp_answers = sp_solver.solve(sp_evaluation)"
   ],
   "metadata": {
    "collapsed": false,
    "ExecuteTime": {
     "end_time": "2024-01-12T16:21:27.357570Z",
     "start_time": "2024-01-12T16:19:25.903113Z"
    }
   },
   "id": "50e641c13a9a8891"
  },
  {
   "cell_type": "code",
   "execution_count": 10,
   "outputs": [],
   "source": [
    "sp_answers = \"\\n\".join([str(x) for x in sp_answers])"
   ],
   "metadata": {
    "collapsed": false,
    "ExecuteTime": {
     "end_time": "2024-01-12T16:23:00.626547Z",
     "start_time": "2024-01-12T16:23:00.623307Z"
    }
   },
   "id": "3146db5f8b946550"
  },
  {
   "cell_type": "code",
   "execution_count": 11,
   "outputs": [],
   "source": [
    "with Path(\"../answer_sen.txt\").open(\"w\") as fp:\n",
    "    fp.writelines(sp_answers)"
   ],
   "metadata": {
    "collapsed": false,
    "ExecuteTime": {
     "end_time": "2024-01-12T16:23:01.150993Z",
     "start_time": "2024-01-12T16:23:01.148002Z"
    }
   },
   "id": "54542398ebcf3657"
  },
  {
   "cell_type": "markdown",
   "source": [
    "# Word puzzle"
   ],
   "metadata": {
    "collapsed": false
   },
   "id": "60a485c53ce8a5c0"
  },
  {
   "cell_type": "code",
   "execution_count": 12,
   "outputs": [],
   "source": [
    "wp_array = np.load(\"../data/WP_new_test.npy\", allow_pickle=True)\n",
    "wp_evaluation = DataSet.from_array(wp_array, shuffle=False)"
   ],
   "metadata": {
    "collapsed": false,
    "ExecuteTime": {
     "end_time": "2024-01-12T16:23:15.836334Z",
     "start_time": "2024-01-12T16:23:15.833295Z"
    }
   },
   "id": "ef118ecf156ec979"
  },
  {
   "cell_type": "code",
   "execution_count": 13,
   "outputs": [
    {
     "data": {
      "text/plain": "  0%|          | 0/96 [00:00<?, ?it/s]",
      "application/vnd.jupyter.widget-view+json": {
       "version_major": 2,
       "version_minor": 0,
       "model_id": "f34f3ac401f44ab89358dddbedfa77e7"
      }
     },
     "metadata": {},
     "output_type": "display_data"
    }
   ],
   "source": [
    "wp_solver = ZeroShotWithReasoningGPT(model_name=\"gpt-4-1106-preview\")\n",
    "\n",
    "wp_answers = wp_solver.solve(wp_evaluation)"
   ],
   "metadata": {
    "collapsed": false,
    "ExecuteTime": {
     "end_time": "2024-01-12T17:07:38.153444Z",
     "start_time": "2024-01-12T16:23:20.313284Z"
    }
   },
   "id": "66e6ca4c7b4014fb"
  },
  {
   "cell_type": "code",
   "execution_count": 15,
   "outputs": [],
   "source": [
    "wp_answers = \"\\n\".join([str(x) for x in wp_answers])"
   ],
   "metadata": {
    "collapsed": false,
    "ExecuteTime": {
     "end_time": "2024-01-12T17:08:40.699676Z",
     "start_time": "2024-01-12T17:08:40.616628Z"
    }
   },
   "id": "c795fd96f28a0fb5"
  },
  {
   "cell_type": "code",
   "execution_count": 16,
   "outputs": [],
   "source": [
    "with Path(\"../answer_word.txt\").open(\"w\") as fp:\n",
    "    fp.writelines(wp_answers)"
   ],
   "metadata": {
    "collapsed": false,
    "ExecuteTime": {
     "end_time": "2024-01-12T17:08:42.160023Z",
     "start_time": "2024-01-12T17:08:42.152794Z"
    }
   },
   "id": "9ca35840dc17b353"
  },
  {
   "cell_type": "code",
   "execution_count": null,
   "outputs": [],
   "source": [],
   "metadata": {
    "collapsed": false
   },
   "id": "6d842952621a5fa0"
  }
 ],
 "metadata": {
  "kernelspec": {
   "display_name": "Python 3",
   "language": "python",
   "name": "python3"
  },
  "language_info": {
   "codemirror_mode": {
    "name": "ipython",
    "version": 2
   },
   "file_extension": ".py",
   "mimetype": "text/x-python",
   "name": "python",
   "nbconvert_exporter": "python",
   "pygments_lexer": "ipython2",
   "version": "2.7.6"
  }
 },
 "nbformat": 4,
 "nbformat_minor": 5
}
