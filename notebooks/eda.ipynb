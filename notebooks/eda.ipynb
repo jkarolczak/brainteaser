{
 "cells": [
  {
   "cell_type": "code",
   "execution_count": 1,
   "id": "initial_id",
   "metadata": {
    "collapsed": true,
    "ExecuteTime": {
     "end_time": "2023-11-08T20:12:23.379572Z",
     "start_time": "2023-11-08T20:12:23.329766Z"
    }
   },
   "outputs": [],
   "source": [
    "from structs import DataSet"
   ]
  },
  {
   "cell_type": "code",
   "execution_count": 2,
   "outputs": [],
   "source": [
    "ds = DataSet.from_file(\"../data/SP-train.npy\", shuffle=True)"
   ],
   "metadata": {
    "collapsed": false,
    "ExecuteTime": {
     "end_time": "2023-11-08T20:12:23.392552Z",
     "start_time": "2023-11-08T20:12:23.390075Z"
    }
   },
   "id": "d93c53880e4849e7"
  },
  {
   "cell_type": "code",
   "execution_count": 3,
   "outputs": [
    {
     "name": "stdout",
     "output_type": "stream",
     "text": [
      "--- 0 ---\n",
      "Question: A bus driver was heading down a street in Colorado. He went right past a stop sign without stopping, he turned left where there was a \"no left turn\" sign, and he went the wrong way on a one-way street. Then he went on the left side of the road past a cop car. Still - he didn't break any traffic laws. Why not?\n",
      "A (correct): He was walking.\n",
      "B: There was no police in that cop car.\n",
      "C: He tried to get away from the police.\n",
      "D (unsure): None of above.        \n",
      "--- 1 ---\n",
      "Question: A hiker lands near a lake. He sees a sign that says \"No swimming allowed,\" yet the duck dives into the water anyhow. Why? \n",
      "A (correct): Because ducks can't read.\n",
      "B: Because ducks won't polluted water.\n",
      "C: Because ducks are tiny to be detected.\n",
      "D (unsure): None of above.        \n",
      "--- 2 ---\n",
      "Question: There was a guy who was really good at intercepting, however, each time he was caught intercepting, he wasn't being sent to jail. How's that possible?\n",
      "A (correct): He was intercepting the ball in football and there was no warning for that.\n",
      "B: Intercepting is not a serious crime.\n",
      "C: All person intercepted are rich and kindess.\n",
      "D (unsure): None of above.        \n"
     ]
    }
   ],
   "source": [
    "for i in range(3):\n",
    "    print(f\"--- {i} ---\")\n",
    "    for q in ds:\n",
    "        print(q)\n",
    "        break"
   ],
   "metadata": {
    "collapsed": false,
    "ExecuteTime": {
     "end_time": "2023-11-08T20:12:23.398222Z",
     "start_time": "2023-11-08T20:12:23.393096Z"
    }
   },
   "id": "694fd8da560f8bba"
  }
 ],
 "metadata": {
  "kernelspec": {
   "display_name": "Python 3",
   "language": "python",
   "name": "python3"
  },
  "language_info": {
   "codemirror_mode": {
    "name": "ipython",
    "version": 2
   },
   "file_extension": ".py",
   "mimetype": "text/x-python",
   "name": "python",
   "nbconvert_exporter": "python",
   "pygments_lexer": "ipython2",
   "version": "2.7.6"
  }
 },
 "nbformat": 4,
 "nbformat_minor": 5
}
