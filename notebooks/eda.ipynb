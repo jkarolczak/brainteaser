{
 "cells": [
  {
   "cell_type": "code",
   "execution_count": null,
   "id": "8cf6fbc1a2431c59",
   "metadata": {
    "is_executing": true
   },
   "outputs": [],
   "source": [
    "import matplotlib.pyplot as plt\n",
    "import numpy as np\n",
    "from sklearn.decomposition import TruncatedSVD\n",
    "from wordcloud import WordCloud, STOPWORDS\n",
    "\n",
    "from structs import DataSet"
   ]
  },
  {
   "cell_type": "markdown",
   "id": "1c2fcdb19a1fa9cd",
   "metadata": {
    "collapsed": false
   },
   "source": [
    "# SP dataset"
   ]
  },
  {
   "cell_type": "code",
   "execution_count": null,
   "id": "initial_id",
   "metadata": {
    "ExecuteTime": {
     "end_time": "2023-11-10T17:13:18.921795Z",
     "start_time": "2023-11-10T17:13:18.883844Z"
    }
   },
   "outputs": [],
   "source": [
    "sp = DataSet.from_file(\"../data/SP-train.pkl\")\n",
    "len(sp)"
   ]
  },
  {
   "cell_type": "markdown",
   "id": "25e9080e2bdf112b",
   "metadata": {
    "collapsed": false
   },
   "source": [
    "## SVD"
   ]
  },
  {
   "cell_type": "code",
   "execution_count": null,
   "id": "32ff86936b8b4443",
   "metadata": {
    "ExecuteTime": {
     "end_time": "2023-11-10T17:13:19.967977Z",
     "start_time": "2023-11-10T17:13:18.962351Z"
    }
   },
   "outputs": [],
   "source": [
    "sp_embeddings = np.array([instance.embedding for instance in sp])\n",
    "sp_svd = TruncatedSVD().fit_transform(sp_embeddings)\n",
    "plt.scatter(sp_svd[:, 0], sp_svd[:, 1])"
   ]
  },
  {
   "cell_type": "markdown",
   "id": "8ef355523c0047b5",
   "metadata": {
    "collapsed": false
   },
   "source": [
    "## WordCloud"
   ]
  },
  {
   "cell_type": "code",
   "execution_count": null,
   "id": "c9dd9d363d0deba4",
   "metadata": {
    "ExecuteTime": {
     "end_time": "2023-11-10T17:13:20.196996Z",
     "start_time": "2023-11-10T17:13:19.963920Z"
    }
   },
   "outputs": [],
   "source": [
    "words = \" \".join(sum([[tok.lower() for tok in instance.question.split()] for instance in sp], []))\n",
    "\n",
    "wordcloud = WordCloud(\n",
    "    background_color=\"white\",\n",
    "    stopwords=STOPWORDS,\n",
    "    min_font_size=10\n",
    ").generate(words)\n",
    "\n",
    "plt.imshow(wordcloud)\n",
    "plt.axis(\"off\")\n",
    "plt.tight_layout(pad=0)\n",
    "plt.show()"
   ]
  },
  {
   "cell_type": "code",
   "execution_count": null,
   "id": "2fd783e7b46fe7b",
   "metadata": {
    "ExecuteTime": {
     "end_time": "2023-11-10T17:13:20.200284Z",
     "start_time": "2023-11-10T17:13:20.197880Z"
    }
   },
   "outputs": [],
   "source": [
    "print(\"\\n\\n---\\n\\n\".join([str(instance) for instance in sp.shuffle_instances()[:10]]))"
   ]
  },
  {
   "cell_type": "markdown",
   "id": "bb447eb9a80ea28a",
   "metadata": {
    "collapsed": false
   },
   "source": [
    "# WP dataset"
   ]
  },
  {
   "cell_type": "code",
   "execution_count": null,
   "id": "64f2c28aa8ba622a",
   "metadata": {
    "ExecuteTime": {
     "end_time": "2023-11-10T17:13:20.213682Z",
     "start_time": "2023-11-10T17:13:20.199767Z"
    }
   },
   "outputs": [],
   "source": [
    "wp = DataSet.from_file(\"../data/WP-train.pkl\")\n",
    "len(wp)"
   ]
  },
  {
   "cell_type": "markdown",
   "id": "e76872f01c77713d",
   "metadata": {
    "collapsed": false
   },
   "source": [
    "## SVD"
   ]
  },
  {
   "cell_type": "code",
   "execution_count": null,
   "id": "9c29af40fb3f8e75",
   "metadata": {
    "ExecuteTime": {
     "start_time": "2023-11-10T17:13:20.234396Z"
    }
   },
   "outputs": [],
   "source": [
    "wp_embeddings = np.array([instance.embedding for instance in wp])\n",
    "wp_svd = TruncatedSVD().fit_transform(wp_embeddings)\n",
    "plt.scatter(wp_svd[:, 0], wp_svd[:, 1])"
   ]
  },
  {
   "cell_type": "markdown",
   "id": "e1952194bd9df9aa",
   "metadata": {
    "collapsed": false
   },
   "source": [
    "## Word cloud"
   ]
  },
  {
   "cell_type": "code",
   "execution_count": null,
   "id": "ba39d17de64fd095",
   "metadata": {},
   "outputs": [],
   "source": [
    "words = \" \".join(sum([[tok.lower() for tok in instance.question.split()] for instance in wp], []))\n",
    "\n",
    "wordcloud = WordCloud(\n",
    "    background_color=\"white\",\n",
    "    stopwords=STOPWORDS,\n",
    "    min_font_size=10\n",
    ").generate(words)\n",
    "\n",
    "plt.imshow(wordcloud)\n",
    "plt.axis(\"off\")\n",
    "plt.tight_layout(pad=0)\n",
    "plt.show()"
   ]
  },
  {
   "cell_type": "markdown",
   "id": "8dd07be38f41b4f",
   "metadata": {
    "collapsed": false
   },
   "source": [
    "## A few examples"
   ]
  },
  {
   "cell_type": "code",
   "execution_count": null,
   "id": "64d243f9ad80949e",
   "metadata": {},
   "outputs": [],
   "source": [
    "print(\"\\n\\n---\\n\\n\".join([str(instance) for instance in wp.shuffle_instances()[:10]]))"
   ]
  },
  {
   "cell_type": "markdown",
   "id": "cf1cd8759dd1a17c",
   "metadata": {
    "collapsed": false
   },
   "source": []
  }
 ],
 "metadata": {
  "kernelspec": {
   "display_name": "Python 3",
   "language": "python",
   "name": "python3"
  },
  "language_info": {
   "codemirror_mode": {
    "name": "ipython",
    "version": 2
   },
   "file_extension": ".py",
   "mimetype": "text/x-python",
   "name": "python",
   "nbconvert_exporter": "python",
   "pygments_lexer": "ipython2",
   "version": "2.7.6"
  }
 },
 "nbformat": 4,
 "nbformat_minor": 5
}
