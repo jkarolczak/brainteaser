{
 "cells": [
  {
   "cell_type": "code",
   "execution_count": null,
   "id": "initial_id",
   "metadata": {
    "ExecuteTime": {
     "end_time": "2023-11-09T18:12:34.157845Z",
     "start_time": "2023-11-09T18:12:34.154428Z"
    }
   },
   "outputs": [],
   "source": [
    "from structs import DataSet"
   ]
  },
  {
   "cell_type": "code",
   "execution_count": null,
   "id": "d93c53880e4849e7",
   "metadata": {
    "ExecuteTime": {
     "end_time": "2023-11-09T18:12:34.160508Z",
     "start_time": "2023-11-09T18:12:34.156638Z"
    }
   },
   "outputs": [],
   "source": [
    "ds = DataSet.from_file(\"../data/SP-train.npy\", shuffle=True)"
   ]
  },
  {
   "cell_type": "code",
   "execution_count": null,
   "id": "694fd8da560f8bba",
   "metadata": {
    "ExecuteTime": {
     "end_time": "2023-11-09T18:12:34.163328Z",
     "start_time": "2023-11-09T18:12:34.161426Z"
    }
   },
   "outputs": [],
   "source": [
    "for i in range(3):\n",
    "    print(f\"--- {i} ---\")\n",
    "    for q in ds:\n",
    "        print(q)\n",
    "        break"
   ]
  },
  {
   "cell_type": "code",
   "execution_count": null,
   "id": "4091446512b56356",
   "metadata": {
    "ExecuteTime": {
     "end_time": "2023-11-09T18:12:34.165868Z",
     "start_time": "2023-11-09T18:12:34.163772Z"
    }
   },
   "outputs": [],
   "source": [
    "ds = DataSet.from_file(\"../data/SP_eval_data_for_practice.npy\", shuffle=True)"
   ]
  },
  {
   "cell_type": "code",
   "execution_count": null,
   "id": "91b3401212bf95da",
   "metadata": {
    "ExecuteTime": {
     "end_time": "2023-11-09T18:12:34.169232Z",
     "start_time": "2023-11-09T18:12:34.167348Z"
    }
   },
   "outputs": [],
   "source": [
    "for i in range(3):\n",
    "    print(f\"--- {i} ---\")\n",
    "    for q in ds:\n",
    "        print(q)\n",
    "        break"
   ]
  }
 ],
 "metadata": {
  "kernelspec": {
   "display_name": "Python 3",
   "language": "python",
   "name": "python3"
  },
  "language_info": {
   "codemirror_mode": {
    "name": "ipython",
    "version": 2
   },
   "file_extension": ".py",
   "mimetype": "text/x-python",
   "name": "python",
   "nbconvert_exporter": "python",
   "pygments_lexer": "ipython2",
   "version": "2.7.6"
  }
 },
 "nbformat": 4,
 "nbformat_minor": 5
}
