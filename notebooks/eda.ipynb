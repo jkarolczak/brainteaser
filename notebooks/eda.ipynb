{
 "cells": [
  {
   "cell_type": "code",
   "execution_count": null,
   "id": "8cf6fbc1a2431c59",
   "metadata": {
    "ExecuteTime": {
     "end_time": "2023-11-09T19:50:12.816902Z",
     "start_time": "2023-11-09T19:50:12.814299Z"
    }
   },
   "outputs": [],
   "source": [
    "import matplotlib.pyplot as plt\n",
    "import numpy as np\n",
    "from sklearn.decomposition import TruncatedSVD\n",
    "\n",
    "from structs import DataSet"
   ]
  },
  {
   "cell_type": "markdown",
   "id": "1c2fcdb19a1fa9cd",
   "metadata": {
    "collapsed": false
   },
   "source": [
    "# SP dataset"
   ]
  },
  {
   "cell_type": "code",
   "execution_count": null,
   "id": "initial_id",
   "metadata": {
    "ExecuteTime": {
     "end_time": "2023-11-09T19:50:14.383156Z",
     "start_time": "2023-11-09T19:50:12.818255Z"
    }
   },
   "outputs": [],
   "source": [
    "sp = DataSet.from_file(\"../data/SP-train.pkl\")\n",
    "\n",
    "sp_embeddings = np.array([instance.embedding for instance in sp])\n",
    "sp_svd = TruncatedSVD().fit_transform(sp_embeddings)\n",
    "plt.scatter(sp_svd[:, 0], sp_svd[:, 1])"
   ]
  },
  {
   "cell_type": "markdown",
   "id": "bb447eb9a80ea28a",
   "metadata": {
    "collapsed": false
   },
   "source": [
    "# WP dataset"
   ]
  },
  {
   "cell_type": "code",
   "execution_count": null,
   "id": "9c29af40fb3f8e75",
   "metadata": {
    "ExecuteTime": {
     "end_time": "2023-11-09T19:50:15.876852Z",
     "start_time": "2023-11-09T19:50:14.382478Z"
    }
   },
   "outputs": [],
   "source": [
    "wp = DataSet.from_file(\"../data/WP-train.pkl\")\n",
    "\n",
    "wp_embeddings = np.array([instance.embedding for instance in wp])\n",
    "wp_svd = TruncatedSVD().fit_transform(wp_embeddings)\n",
    "plt.scatter(wp_svd[:, 0], wp_svd[:, 1])"
   ]
  },
  {
   "cell_type": "code",
   "execution_count": null,
   "id": "834e1ad911b4b74d",
   "metadata": {
    "ExecuteTime": {
     "end_time": "2023-11-09T19:50:15.903334Z",
     "start_time": "2023-11-09T19:50:15.889045Z"
    }
   },
   "outputs": [],
   "source": []
  }
 ],
 "metadata": {
  "kernelspec": {
   "display_name": "Python 3",
   "language": "python",
   "name": "python3"
  },
  "language_info": {
   "codemirror_mode": {
    "name": "ipython",
    "version": 2
   },
   "file_extension": ".py",
   "mimetype": "text/x-python",
   "name": "python",
   "nbconvert_exporter": "python",
   "pygments_lexer": "ipython2",
   "version": "2.7.6"
  }
 },
 "nbformat": 4,
 "nbformat_minor": 5
}
