{
 "cells": [
  {
   "cell_type": "markdown",
   "id": "ef8a2f7f2321e1bc",
   "metadata": {
    "collapsed": false
   },
   "source": [
    "# Environment initialization"
   ]
  },
  {
   "cell_type": "code",
   "execution_count": null,
   "id": "initial_id",
   "metadata": {
    "ExecuteTime": {
     "end_time": "2023-11-13T20:09:27.247428Z",
     "start_time": "2023-11-13T20:09:26.832336Z"
    }
   },
   "outputs": [],
   "source": [
    "import os\n",
    "\n",
    "import wandb\n",
    "\n",
    "from solvers import ZeroShotGPT\n",
    "from structs import DataSet"
   ]
  },
  {
   "cell_type": "code",
   "execution_count": null,
   "id": "a09166ce117c9cb3",
   "metadata": {
    "ExecuteTime": {
     "end_time": "2023-11-13T20:09:27.482162Z",
     "start_time": "2023-11-13T20:09:27.246587Z"
    }
   },
   "outputs": [],
   "source": [
    "solver = ZeroShotGPT()"
   ]
  },
  {
   "cell_type": "code",
   "execution_count": null,
   "id": "be750dbceeff2af8",
   "metadata": {
    "ExecuteTime": {
     "end_time": "2023-11-13T20:09:30.573282Z",
     "start_time": "2023-11-13T20:09:27.498567Z"
    }
   },
   "outputs": [],
   "source": [
    "os.environ[\"WANDB_SILENT\"] = \"true\"\n",
    "\n",
    "wandb.init(\n",
    "    project=\"brainteasers\",\n",
    "    config={\n",
    "        \"solver\": \"ZeroShotGPT\"\n",
    "    }\n",
    ")"
   ]
  },
  {
   "cell_type": "markdown",
   "id": "3d119f332159b6ab",
   "metadata": {
    "collapsed": false
   },
   "source": [
    "# Evaluation on Sentence Puzzle"
   ]
  },
  {
   "cell_type": "code",
   "execution_count": null,
   "id": "af26c158cb28f937",
   "metadata": {
    "ExecuteTime": {
     "end_time": "2023-11-13T20:09:42.315342Z",
     "start_time": "2023-11-13T20:09:30.567662Z"
    }
   },
   "outputs": [],
   "source": [
    "sp = DataSet.from_file(\"../data/SP-train.pkl\")\n",
    "\n",
    "sp_answers = solver.solve(sp)\n",
    "sp_are_answers_correct = [instance.is_choice_correct(answer) for instance, answer in zip(sp, sp_answers)]\n",
    "sp_accuracy = sum(sp_are_answers_correct) / len(sp_are_answers_correct)\n",
    "\n",
    "print(f\"Accuracy on the Sentence Puzzle dataset: {sp_accuracy: .4f}\")"
   ]
  },
  {
   "cell_type": "markdown",
   "id": "99fe2baa5f65d63f",
   "metadata": {
    "collapsed": false
   },
   "source": [
    "# Evaluation on Word Puzzle"
   ]
  },
  {
   "cell_type": "code",
   "execution_count": null,
   "id": "87c9d36570d46946",
   "metadata": {
    "ExecuteTime": {
     "start_time": "2023-11-13T20:09:42.315060Z"
    }
   },
   "outputs": [],
   "source": [
    "wp = DataSet.from_file(\"../data/WP-train.pkl\")\n",
    "\n",
    "wp_answers = solver.solve(wp)\n",
    "wp_are_answers_correct = [instance.is_choice_correct(answer) for instance, answer in tqdm(zip(wp, wp_answers))]\n",
    "wp_accuracy = sum(wp_are_answers_correct) / len(wp_are_answers_correct)\n",
    "\n",
    "print(f\"Accuracy on the Word Puzzle dataset: {wp_accuracy: .4f}\")"
   ]
  },
  {
   "cell_type": "markdown",
   "id": "69a40606ddf114c",
   "metadata": {
    "collapsed": false
   },
   "source": [
    "# Logging metrics"
   ]
  },
  {
   "cell_type": "code",
   "execution_count": null,
   "id": "6ebc6b8ccf6d1c25",
   "metadata": {
    "ExecuteTime": {
     "end_time": "2023-11-13T20:09:42.316620Z",
     "start_time": "2023-11-13T20:09:42.316031Z"
    }
   },
   "outputs": [],
   "source": [
    "wandb.log(\n",
    "    {\n",
    "        \"accuracy/sp\": sp_accuracy,\n",
    "        \"accuracy/wp\": wp_accuracy,\n",
    "    }\n",
    ")\n",
    "\n",
    "wandb.finish(quiet=True)"
   ]
  }
 ],
 "metadata": {
  "kernelspec": {
   "display_name": "Python 3",
   "language": "python",
   "name": "python3"
  },
  "language_info": {
   "codemirror_mode": {
    "name": "ipython",
    "version": 2
   },
   "file_extension": ".py",
   "mimetype": "text/x-python",
   "name": "python",
   "nbconvert_exporter": "python",
   "pygments_lexer": "ipython2",
   "version": "2.7.6"
  }
 },
 "nbformat": 4,
 "nbformat_minor": 5
}
