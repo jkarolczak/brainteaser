{
 "cells": [
  {
   "cell_type": "markdown",
   "id": "ef8a2f7f2321e1bc",
   "metadata": {
    "collapsed": false
   },
   "source": [
    "# Environment initialization"
   ]
  },
  {
   "cell_type": "code",
   "execution_count": 2,
   "id": "initial_id",
   "metadata": {
    "ExecuteTime": {
     "end_time": "2023-11-15T11:22:30.548806Z",
     "start_time": "2023-11-15T11:22:30.168414Z"
    }
   },
   "outputs": [],
   "source": [
    "import os\n",
    "\n",
    "import wandb\n",
    "from solvers import ZeroShotGPT\n",
    "from structs import DataSet"
   ]
  },
  {
   "cell_type": "code",
   "execution_count": 3,
   "id": "a09166ce117c9cb3",
   "metadata": {
    "ExecuteTime": {
     "end_time": "2023-11-15T11:22:30.776595Z",
     "start_time": "2023-11-15T11:22:30.548947Z"
    }
   },
   "outputs": [],
   "source": [
    "solver = ZeroShotGPT()"
   ]
  },
  {
   "cell_type": "code",
   "execution_count": 4,
   "id": "be750dbceeff2af8",
   "metadata": {
    "ExecuteTime": {
     "end_time": "2023-11-15T11:22:34.346935Z",
     "start_time": "2023-11-15T11:22:30.793514Z"
    }
   },
   "outputs": [
    {
     "data": {
      "text/html": "<button onClick=\"this.nextSibling.style.display='block';this.style.display='none';\">Display W&B run</button><iframe src='https://wandb.ai/ap-wt/brainteasers/runs/d0uk7zby?jupyter=true' style='border:none;width:100%;height:420px;display:none;'></iframe>",
      "text/plain": "<wandb.sdk.wandb_run.Run at 0x122daf690>"
     },
     "execution_count": 4,
     "metadata": {},
     "output_type": "execute_result"
    }
   ],
   "source": [
    "os.environ[\"WANDB_SILENT\"] = \"true\"\n",
    "\n",
    "wandb.init(\n",
    "    project=\"brainteasers\",\n",
    "    config={\n",
    "        \"solver\": \"ZeroShotGPT\"\n",
    "    }\n",
    ")"
   ]
  },
  {
   "cell_type": "markdown",
   "id": "3d119f332159b6ab",
   "metadata": {
    "collapsed": false
   },
   "source": [
    "# Evaluation on Sentence Puzzle"
   ]
  },
  {
   "cell_type": "code",
   "execution_count": 5,
   "id": "af26c158cb28f937",
   "metadata": {
    "ExecuteTime": {
     "end_time": "2023-11-15T11:28:53.618099Z",
     "start_time": "2023-11-15T11:22:34.346429Z"
    }
   },
   "outputs": [
    {
     "data": {
      "text/plain": "  0%|          | 0/507 [00:00<?, ?it/s]",
      "application/vnd.jupyter.widget-view+json": {
       "version_major": 2,
       "version_minor": 0,
       "model_id": "bf22619840ea483591a7c9234dcc8064"
      }
     },
     "metadata": {},
     "output_type": "display_data"
    },
    {
     "name": "stdout",
     "output_type": "stream",
     "text": [
      "Accuracy on the Sentence Puzzle dataset:  0.2465\n"
     ]
    }
   ],
   "source": [
    "sp = DataSet.from_file(\"../data/SP-train.pkl\")\n",
    "\n",
    "sp_answers = solver.solve(sp)\n",
    "sp_are_answers_correct = [instance.is_choice_correct(answer) for instance, answer in zip(sp, sp_answers)]\n",
    "sp_accuracy = sum(sp_are_answers_correct) / len(sp_are_answers_correct)\n",
    "\n",
    "print(f\"Accuracy on the Sentence Puzzle dataset: {sp_accuracy: .4f}\")"
   ]
  },
  {
   "cell_type": "markdown",
   "id": "99fe2baa5f65d63f",
   "metadata": {
    "collapsed": false
   },
   "source": [
    "# Evaluation on Word Puzzle"
   ]
  },
  {
   "cell_type": "code",
   "execution_count": 7,
   "outputs": [
    {
     "name": "stdout",
     "output_type": "stream",
     "text": [
      "Accuracy on the Word Puzzle dataset:  0.1995\n"
     ]
    }
   ],
   "source": [
    "wp = DataSet.from_file(\"../data/WP-train.pkl\")\n",
    "\n",
    "wp_answers = solver.solve(wp)\n",
    "wp_are_answers_correct = [instance.is_choice_correct(answer) for instance, answer in zip(wp, wp_answers)]\n",
    "wp_accuracy = sum(wp_are_answers_correct) / len(wp_are_answers_correct)\n",
    "\n",
    "print(f\"Accuracy on the Word Puzzle dataset: {wp_accuracy: .4f}\")"
   ],
   "metadata": {
    "collapsed": false,
    "ExecuteTime": {
     "end_time": "2023-11-15T11:33:54.055215Z",
     "start_time": "2023-11-15T11:33:53.973923Z"
    }
   },
   "id": "a43d72de82fb4bae"
  },
  {
   "cell_type": "markdown",
   "id": "69a40606ddf114c",
   "metadata": {
    "collapsed": false
   },
   "source": [
    "# Logging metrics"
   ]
  },
  {
   "cell_type": "code",
   "execution_count": 8,
   "outputs": [],
   "source": [
    "total_cardinality = (len(sp_answers) + len(wp_answers))\n",
    "total_accuracy = (sp_accuracy * (len(sp_answers) / total_cardinality) +\n",
    "                  wp_accuracy * (len(wp_answers) / total_cardinality))"
   ],
   "metadata": {
    "collapsed": false,
    "ExecuteTime": {
     "end_time": "2023-11-15T11:34:10.154482Z",
     "start_time": "2023-11-15T11:34:10.149484Z"
    }
   },
   "id": "27209783487f3a2a"
  },
  {
   "cell_type": "code",
   "execution_count": 9,
   "outputs": [],
   "source": [
    "wandb.log(\n",
    "    {\n",
    "        \"accuracy/overall\": total_accuracy,\n",
    "        \"accuracy/sp\": sp_accuracy,\n",
    "        \"accuracy/wp\": wp_accuracy,\n",
    "    }\n",
    ")\n",
    "\n",
    "wandb.finish(quiet=True)"
   ],
   "metadata": {
    "collapsed": false,
    "ExecuteTime": {
     "end_time": "2023-11-15T11:34:29.771626Z",
     "start_time": "2023-11-15T11:34:10.873917Z"
    }
   },
   "id": "dacf12d69ed3ce53"
  }
 ],
 "metadata": {
  "kernelspec": {
   "display_name": "Python 3",
   "language": "python",
   "name": "python3"
  },
  "language_info": {
   "codemirror_mode": {
    "name": "ipython",
    "version": 2
   },
   "file_extension": ".py",
   "mimetype": "text/x-python",
   "name": "python",
   "nbconvert_exporter": "python",
   "pygments_lexer": "ipython2",
   "version": "2.7.6"
  }
 },
 "nbformat": 4,
 "nbformat_minor": 5
}
