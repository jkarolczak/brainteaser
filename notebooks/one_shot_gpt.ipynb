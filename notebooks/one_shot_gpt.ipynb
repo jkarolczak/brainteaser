{
 "cells": [
  {
   "cell_type": "code",
   "execution_count": 2,
   "outputs": [],
   "source": [
    "import os\n",
    "\n",
    "import wandb\n",
    "from solvers import FineTunedGPT\n",
    "from structs import DataSet"
   ],
   "metadata": {
    "collapsed": false,
    "ExecuteTime": {
     "end_time": "2023-12-01T17:29:27.077920Z",
     "start_time": "2023-12-01T17:29:26.646377Z"
    }
   },
   "id": "95768bde8858a58a"
  },
  {
   "cell_type": "code",
   "execution_count": 3,
   "outputs": [
    {
     "data": {
      "text/html": "<button onClick=\"this.nextSibling.style.display='block';this.style.display='none';\">Display W&B run</button><iframe src='https://wandb.ai/ap-wt/brainteasers/runs/cee5lhk9?jupyter=true' style='border:none;width:100%;height:420px;display:none;'></iframe>",
      "text/plain": "<wandb.sdk.wandb_run.Run at 0x127ac7a50>"
     },
     "execution_count": 3,
     "metadata": {},
     "output_type": "execute_result"
    }
   ],
   "source": [
    "os.environ[\"WANDB_SILENT\"] = \"true\"\n",
    "\n",
    "wandb.init(\n",
    "    project=\"brainteasers\",\n",
    "    config={\n",
    "        \"solver\": \"FineTunedtGPT\",\n",
    "        \"model_sp\": \"ft:gpt-3.5-turbo-0613:ncodex::8QhGOWvR\",\n",
    "        \"model_wp\": \"ft:gpt-3.5-turbo-0613:ncodex::8R1R0Vi0\"\n",
    "    }\n",
    ")"
   ],
   "metadata": {
    "collapsed": false,
    "ExecuteTime": {
     "end_time": "2023-12-01T17:29:30.400870Z",
     "start_time": "2023-12-01T17:29:27.095280Z"
    }
   },
   "id": "2715d613657d6f9e"
  },
  {
   "cell_type": "markdown",
   "source": [
    "# Sentence Puzzle"
   ],
   "metadata": {
    "collapsed": false
   },
   "id": "c222ec25e832e9fd"
  },
  {
   "cell_type": "code",
   "execution_count": 4,
   "outputs": [],
   "source": [
    "sp_train = DataSet.from_file(\"../data/SP-train.pkl\")\n",
    "sp_eval = DataSet.from_file(\"../data/SP-eval.pkl\")"
   ],
   "metadata": {
    "collapsed": false,
    "ExecuteTime": {
     "end_time": "2023-12-01T17:29:30.422554Z",
     "start_time": "2023-12-01T17:29:30.401302Z"
    }
   },
   "id": "92989bccccab7082"
  },
  {
   "cell_type": "code",
   "execution_count": 5,
   "outputs": [],
   "source": [
    "# sp_solver = FineTunedGPT()\n",
    "# sp_solver.fit(sp_train)"
   ],
   "metadata": {
    "collapsed": false,
    "ExecuteTime": {
     "end_time": "2023-12-01T17:29:30.428414Z",
     "start_time": "2023-12-01T17:29:30.421920Z"
    }
   },
   "id": "3021cebff0103910"
  },
  {
   "cell_type": "code",
   "execution_count": 6,
   "outputs": [
    {
     "data": {
      "text/plain": "  0%|          | 0/119 [00:00<?, ?it/s]",
      "application/vnd.jupyter.widget-view+json": {
       "version_major": 2,
       "version_minor": 0,
       "model_id": "751a3df12c534c22b46831e941eb3755"
      }
     },
     "metadata": {},
     "output_type": "display_data"
    },
    {
     "name": "stdout",
     "output_type": "stream",
     "text": [
      "Accuracy on the Sentence Puzzle dataset:  0.8571\n"
     ]
    }
   ],
   "source": [
    "sp_solver = FineTunedGPT(model_name=\"ft:gpt-3.5-turbo-0613:ncodex::8QhGOWvR\")\n",
    "\n",
    "sp_answers = sp_solver.solve(sp_eval)\n",
    "sp_are_answers_correct = [instance.is_choice_correct(answer) for instance, answer in zip(sp_eval, sp_answers)]\n",
    "sp_accuracy = sum(sp_are_answers_correct) / len(sp_are_answers_correct)\n",
    "\n",
    "print(f\"Accuracy on the Sentence Puzzle dataset: {sp_accuracy: .4f}\")"
   ],
   "metadata": {
    "collapsed": false,
    "ExecuteTime": {
     "end_time": "2023-12-01T17:30:20.327725Z",
     "start_time": "2023-12-01T17:29:30.425288Z"
    }
   },
   "id": "4ff22dc6b4842c62"
  },
  {
   "cell_type": "markdown",
   "source": [
    "# Word Puzzle"
   ],
   "metadata": {
    "collapsed": false
   },
   "id": "3e79c2abdf0bf2a1"
  },
  {
   "cell_type": "code",
   "execution_count": 7,
   "outputs": [],
   "source": [
    "wp_train = DataSet.from_file(\"../data/WP-train.pkl\")\n",
    "wp_eval = DataSet.from_file(\"../data/WP-eval.pkl\")"
   ],
   "metadata": {
    "collapsed": false,
    "ExecuteTime": {
     "end_time": "2023-12-01T17:30:20.376231Z",
     "start_time": "2023-12-01T17:30:20.328348Z"
    }
   },
   "id": "198a8cf23db0b435"
  },
  {
   "cell_type": "code",
   "execution_count": 8,
   "outputs": [],
   "source": [
    "# wp_solver = FineTunedGPT()\n",
    "# wp_solver.fit(wp_train)"
   ],
   "metadata": {
    "collapsed": false,
    "ExecuteTime": {
     "end_time": "2023-12-01T17:30:20.388198Z",
     "start_time": "2023-12-01T17:30:20.354702Z"
    }
   },
   "id": "e4c722619e8f4768"
  },
  {
   "cell_type": "code",
   "execution_count": 9,
   "outputs": [
    {
     "data": {
      "text/plain": "  0%|          | 0/120 [00:00<?, ?it/s]",
      "application/vnd.jupyter.widget-view+json": {
       "version_major": 2,
       "version_minor": 0,
       "model_id": "283ae09478224e2d8849022f3e5aafa7"
      }
     },
     "metadata": {},
     "output_type": "display_data"
    },
    {
     "name": "stdout",
     "output_type": "stream",
     "text": [
      "Accuracy on the Word Puzzle dataset:  0.6667\n"
     ]
    }
   ],
   "source": [
    "wp_solver = FineTunedGPT(model_name=\"ft:gpt-3.5-turbo-0613:ncodex::8R1R0Vi0\")\n",
    "\n",
    "wp_answers = wp_solver.solve(wp_eval)\n",
    "wp_are_answers_correct = [instance.is_choice_correct(answer) for instance, answer in zip(wp_eval, wp_answers)]\n",
    "wp_accuracy = sum(wp_are_answers_correct) / len(wp_are_answers_correct)\n",
    "\n",
    "print(f\"Accuracy on the Word Puzzle dataset: {wp_accuracy: .4f}\")"
   ],
   "metadata": {
    "collapsed": false,
    "ExecuteTime": {
     "end_time": "2023-12-01T17:31:10.475305Z",
     "start_time": "2023-12-01T17:30:20.359253Z"
    }
   },
   "id": "770a2d2988ddeb66"
  },
  {
   "cell_type": "code",
   "execution_count": 10,
   "outputs": [],
   "source": [
    "total_cardinality = (len(sp_answers) + len(wp_answers))\n",
    "total_accuracy = (sp_accuracy * (len(sp_answers) / total_cardinality) +\n",
    "                  wp_accuracy * (len(wp_answers) / total_cardinality))"
   ],
   "metadata": {
    "collapsed": false,
    "ExecuteTime": {
     "end_time": "2023-12-01T17:31:10.491199Z",
     "start_time": "2023-12-01T17:31:10.476495Z"
    }
   },
   "id": "e35190e8fda91e83"
  },
  {
   "cell_type": "code",
   "execution_count": 11,
   "outputs": [],
   "source": [
    "wandb.log(\n",
    "    {\n",
    "        \"accuracy/overall\": total_accuracy,\n",
    "        \"accuracy/sp\": sp_accuracy,\n",
    "        \"accuracy/wp\": wp_accuracy,\n",
    "    }\n",
    ")\n",
    "\n",
    "wandb.finish(quiet=True)"
   ],
   "metadata": {
    "collapsed": false,
    "ExecuteTime": {
     "end_time": "2023-12-01T17:31:21.388918Z",
     "start_time": "2023-12-01T17:31:10.481214Z"
    }
   },
   "id": "f341a96a50e7982e"
  }
 ],
 "metadata": {
  "kernelspec": {
   "display_name": "Python 3",
   "language": "python",
   "name": "python3"
  },
  "language_info": {
   "codemirror_mode": {
    "name": "ipython",
    "version": 2
   },
   "file_extension": ".py",
   "mimetype": "text/x-python",
   "name": "python",
   "nbconvert_exporter": "python",
   "pygments_lexer": "ipython2",
   "version": "2.7.6"
  }
 },
 "nbformat": 4,
 "nbformat_minor": 5
}
