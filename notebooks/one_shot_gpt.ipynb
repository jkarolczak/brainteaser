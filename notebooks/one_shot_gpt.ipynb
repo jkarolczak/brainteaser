{
 "cells": [
  {
   "cell_type": "code",
   "execution_count": 2,
   "outputs": [],
   "source": [
    "from structs import DataSet"
   ],
   "metadata": {
    "collapsed": false,
    "ExecuteTime": {
     "end_time": "2023-11-30T19:28:56.766372Z",
     "start_time": "2023-11-30T19:28:56.687134Z"
    }
   },
   "id": "95768bde8858a58a"
  },
  {
   "cell_type": "code",
   "execution_count": 3,
   "outputs": [],
   "source": [
    "from solvers import FineTunedGPT\n",
    "\n",
    "solver = FineTunedGPT()"
   ],
   "metadata": {
    "collapsed": false,
    "ExecuteTime": {
     "end_time": "2023-11-30T19:28:57.045313Z",
     "start_time": "2023-11-30T19:28:56.787331Z"
    }
   },
   "id": "3021cebff0103910"
  },
  {
   "cell_type": "code",
   "execution_count": 4,
   "outputs": [],
   "source": [
    "sp_train = DataSet.from_file(\"../data/SP-train.pkl\")"
   ],
   "metadata": {
    "collapsed": false,
    "ExecuteTime": {
     "end_time": "2023-11-30T19:28:57.060409Z",
     "start_time": "2023-11-30T19:28:57.045627Z"
    }
   },
   "id": "dfe985c3c9839ac8"
  },
  {
   "cell_type": "code",
   "execution_count": 5,
   "outputs": [],
   "source": [
    "solver.fit(sp_train)"
   ],
   "metadata": {
    "collapsed": false,
    "ExecuteTime": {
     "end_time": "2023-11-30T19:28:59.354815Z",
     "start_time": "2023-11-30T19:28:57.062072Z"
    }
   },
   "id": "ee4f7d0495e169c7"
  },
  {
   "cell_type": "code",
   "execution_count": 6,
   "outputs": [],
   "source": [
    "solver = FineTunedGPT(model_name=\"ft:gpt-3.5-turbo-0613:ncodex::8QhGOWvR\")"
   ],
   "metadata": {
    "collapsed": false,
    "ExecuteTime": {
     "end_time": "2023-11-30T19:50:51.468056Z",
     "start_time": "2023-11-30T19:50:51.450498Z"
    }
   },
   "id": "d69f489746314db6"
  },
  {
   "cell_type": "code",
   "execution_count": 8,
   "outputs": [],
   "source": [
    "sp_eval = DataSet.from_file(\"../data/SP-eval.pkl\")"
   ],
   "metadata": {
    "collapsed": false,
    "ExecuteTime": {
     "end_time": "2023-11-30T19:51:10.770291Z",
     "start_time": "2023-11-30T19:51:10.755319Z"
    }
   },
   "id": "c0704146daf9afae"
  },
  {
   "cell_type": "code",
   "execution_count": 9,
   "outputs": [
    {
     "data": {
      "text/plain": "  0%|          | 0/119 [00:00<?, ?it/s]",
      "application/vnd.jupyter.widget-view+json": {
       "version_major": 2,
       "version_minor": 0,
       "model_id": "26de69765a804bd8b1bfa44f7b631a19"
      }
     },
     "metadata": {},
     "output_type": "display_data"
    },
    {
     "name": "stdout",
     "output_type": "stream",
     "text": [
      "Accuracy on the Sentence Puzzle dataset:  0.9244\n"
     ]
    }
   ],
   "source": [
    "sp_answers = solver.solve(sp_eval)\n",
    "sp_are_answers_correct = [instance.is_choice_correct(answer) for instance, answer in zip(sp_eval, sp_answers)]\n",
    "sp_accuracy = sum(sp_are_answers_correct) / len(sp_are_answers_correct)\n",
    "\n",
    "print(f\"Accuracy on the Sentence Puzzle dataset: {sp_accuracy: .4f}\")"
   ],
   "metadata": {
    "collapsed": false,
    "ExecuteTime": {
     "end_time": "2023-11-30T19:52:58.149458Z",
     "start_time": "2023-11-30T19:52:06.554583Z"
    }
   },
   "id": "4ff22dc6b4842c62"
  }
 ],
 "metadata": {
  "kernelspec": {
   "display_name": "Python 3",
   "language": "python",
   "name": "python3"
  },
  "language_info": {
   "codemirror_mode": {
    "name": "ipython",
    "version": 2
   },
   "file_extension": ".py",
   "mimetype": "text/x-python",
   "name": "python",
   "nbconvert_exporter": "python",
   "pygments_lexer": "ipython2",
   "version": "2.7.6"
  }
 },
 "nbformat": 4,
 "nbformat_minor": 5
}
