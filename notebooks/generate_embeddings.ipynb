{
 "cells": [
  {
   "cell_type": "code",
   "execution_count": null,
   "id": "initial_id",
   "metadata": {
    "ExecuteTime": {
     "end_time": "2023-11-09T19:17:50.622867Z",
     "start_time": "2023-11-09T19:17:50.307455Z"
    }
   },
   "outputs": [],
   "source": [
    "import os\n",
    "from glob import glob\n",
    "\n",
    "from structs import DataSet"
   ]
  },
  {
   "cell_type": "code",
   "execution_count": null,
   "id": "5c2e089609002444",
   "metadata": {
    "ExecuteTime": {
     "end_time": "2023-11-09T19:24:41.177027Z",
     "start_time": "2023-11-09T19:17:50.728136Z"
    }
   },
   "outputs": [],
   "source": [
    "for full_path in glob(\"../data/*.npy\"):\n",
    "    dataset = DataSet.from_file(full_path)\n",
    "    for idx, _ in enumerate(dataset):\n",
    "        dataset[idx].embed()\n",
    "    dataset_name = os.path.splitext(os.path.split(full_path)[-1])[0]\n",
    "    DataSet.to_file(dataset=dataset, path=os.path.join(\"../data\", f\"{dataset_name}.pkl\"))"
   ]
  },
  {
   "cell_type": "code",
   "execution_count": null,
   "id": "d93c53880e4849e7",
   "metadata": {
    "ExecuteTime": {
     "end_time": "2023-11-09T19:24:41.212480Z",
     "start_time": "2023-11-09T19:24:41.174873Z"
    }
   },
   "outputs": [],
   "source": [
    "dataset = DataSet.from_file(\"../data/SP-train.pkl\", shuffle=True)"
   ]
  },
  {
   "cell_type": "code",
   "execution_count": null,
   "id": "6ec81a74362691f4",
   "metadata": {
    "ExecuteTime": {
     "end_time": "2023-11-09T19:24:41.224048Z",
     "start_time": "2023-11-09T19:24:41.214056Z"
    }
   },
   "outputs": [],
   "source": [
    "dataset[0]"
   ]
  },
  {
   "cell_type": "code",
   "execution_count": null,
   "id": "a600ac00bc570236",
   "metadata": {
    "ExecuteTime": {
     "end_time": "2023-11-09T19:24:41.225436Z",
     "start_time": "2023-11-09T19:24:41.220124Z"
    }
   },
   "outputs": [],
   "source": [
    "dataset[0].embedding"
   ]
  }
 ],
 "metadata": {
  "kernelspec": {
   "display_name": "Python 3",
   "language": "python",
   "name": "python3"
  },
  "language_info": {
   "codemirror_mode": {
    "name": "ipython",
    "version": 2
   },
   "file_extension": ".py",
   "mimetype": "text/x-python",
   "name": "python",
   "nbconvert_exporter": "python",
   "pygments_lexer": "ipython2",
   "version": "2.7.6"
  }
 },
 "nbformat": 4,
 "nbformat_minor": 5
}
